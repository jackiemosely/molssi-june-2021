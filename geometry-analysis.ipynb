{
 "cells": [
  {
   "cell_type": "markdown",
   "metadata": {},
   "source": [
    "# Homework Assignment 2\n",
    "\n",
    "You will be analyzing an xyz file for water (water.xyz) and measuring the distances between all the atoms in the molecule.  The file is located in the data folder of your workshop materials. The output of your code should look like this.\n",
    "\n",
    "```\n",
    "O to O : 0.0\n",
    "O to H1 : 0.969\n",
    "O to H2 : 0.969\n",
    "H1 to O : 0.969\n",
    "H1 to H1 : 0.0\n",
    "H1 to H2 : 1.527\n",
    "H2 to O : 0.969\n",
    "H2 to H1 : 1.527\n",
    "H2 to H2 : 0.0\n",
    "```\n",
    "To do this you will need to use the distance formula.\n",
    "\n",
    "$$distance = \\sqrt{(x_1 - x_2)^2 + (y_1 - y_2)^2 + (z_1 - z_2)^2}$$\n",
    "\n",
    "As you can see that you will need to square stuff and take the square root.  To take the square root, you will use a function from numpy, `numpy.sqrt()`.  To square something, use `**` notation.  As in, `3**2 = 9` is $3^2 =9$."
   ]
  },
  {
   "cell_type": "code",
   "execution_count": 1,
   "metadata": {},
   "outputs": [],
   "source": [
    "import os\n",
    "import numpy"
   ]
  },
  {
   "cell_type": "code",
   "execution_count": 42,
   "metadata": {},
   "outputs": [
    {
     "name": "stdout",
     "output_type": "stream",
     "text": [
      "data/water.xyz\n"
     ]
    }
   ],
   "source": [
    "file_location = os.path.join('data','water.xyz')\n",
    "xyz_file = numpy.genfromtxt(fname=file_location, dtype='unicode', skip_header=2)\n",
    "print(file_location)"
   ]
  },
  {
   "cell_type": "code",
   "execution_count": 5,
   "metadata": {},
   "outputs": [
    {
     "name": "stdout",
     "output_type": "stream",
     "text": [
      "[['O' '0.000000' '-0.007156' '0.965491']\n",
      " ['H1' '-0.000000' '0.001486' '-0.003471']\n",
      " ['H2' '0.000000' '0.931026' '1.207929']]\n"
     ]
    }
   ],
   "source": [
    "print(xyz_file)"
   ]
  },
  {
   "cell_type": "code",
   "execution_count": 6,
   "metadata": {},
   "outputs": [
    {
     "name": "stderr",
     "output_type": "stream",
     "text": [
      "<ipython-input-6-0915b38f976b>:3: DeprecationWarning: `np.float` is a deprecated alias for the builtin `float`. To silence this warning, use `float` by itself. Doing this will not modify any behavior and is safe. If you specifically wanted the numpy scalar type, use `np.float64` here.\n",
      "Deprecated in NumPy 1.20; for more details and guidance: https://numpy.org/devdocs/release/1.20.0-notes.html#deprecations\n",
      "  coords = coords.astype(numpy.float)\n"
     ]
    }
   ],
   "source": [
    "symbols = xyz_file[:,0]\n",
    "coords = xyz_file[:,1:]\n",
    "coords = coords.astype(numpy.float)"
   ]
  },
  {
   "cell_type": "code",
   "execution_count": 7,
   "metadata": {},
   "outputs": [
    {
     "name": "stdout",
     "output_type": "stream",
     "text": [
      "['O' 'H1' 'H2']\n",
      "[[ 0.       -0.007156  0.965491]\n",
      " [-0.        0.001486 -0.003471]\n",
      " [ 0.        0.931026  1.207929]]\n"
     ]
    }
   ],
   "source": [
    "print(symbols)\n",
    "print(coords)"
   ]
  },
  {
   "cell_type": "code",
   "execution_count": 9,
   "metadata": {},
   "outputs": [
    {
     "name": "stdout",
     "output_type": "stream",
     "text": [
      "O to O : 0.000\n",
      "O to H1 : 0.969\n",
      "O to H2 : 0.969\n",
      "H1 to O : 0.969\n",
      "H1 to H1 : 0.000\n",
      "H1 to H2 : 1.527\n",
      "H2 to O : 0.969\n",
      "H2 to H1 : 1.527\n",
      "H2 to H2 : 0.000\n"
     ]
    }
   ],
   "source": [
    "num_atoms = len(symbols)\n",
    "for num1 in range(0, num_atoms):\n",
    "    for num2 in range(0, num_atoms):\n",
    "        x_distance = coords[num1,0] - coords[num2,0]\n",
    "        y_distance = coords[num1,1] - coords[num2,1]\n",
    "        z_distance = coords[num1,2] - coords[num2,2]\n",
    "        distance = numpy.sqrt(x_distance**2 + y_distance**2 + z_distance**2)\n",
    "        print(F'{symbols[num1]} to {symbols[num2]} : {distance:.3f}')"
   ]
  },
  {
   "cell_type": "code",
   "execution_count": 13,
   "metadata": {},
   "outputs": [],
   "source": [
    "#Modify my code to only print atoms that are actually bonded\n",
    "#Rule: Distance between atoms is less than 1.5 angstroms"
   ]
  },
  {
   "cell_type": "code",
   "execution_count": 17,
   "metadata": {},
   "outputs": [
    {
     "name": "stdout",
     "output_type": "stream",
     "text": [
      "O to H1 : 0.969\n",
      "O to H2 : 0.969\n"
     ]
    }
   ],
   "source": [
    "for num1 in range(0, num_atoms):\n",
    "    for num2 in range(0, num_atoms):\n",
    "        if num1<num2:\n",
    "            x_distance = coords[num1,0] - coords[num2,0]\n",
    "            y_distance = coords[num1,1] - coords[num2,1]\n",
    "            z_distance = coords[num1,2] - coords[num2,2]\n",
    "            distance = numpy.sqrt(x_distance**2 + y_distance**2 + z_distance**2)\n",
    "            if distance > 0 and distance < 1.5:\n",
    "                print(F'{symbols[num1]} to {symbols[num2]} : {distance:.3f}')"
   ]
  },
  {
   "cell_type": "markdown",
   "metadata": {},
   "source": [
    "## Writing and Using Functions"
   ]
  },
  {
   "cell_type": "code",
   "execution_count": 18,
   "metadata": {},
   "outputs": [],
   "source": [
    "#def function_name(parameters):\n",
    "#    ** body of your function **\n",
    "#    ** write code using the parameters to calculate something **\n",
    "#    return value_to_return"
   ]
  },
  {
   "cell_type": "code",
   "execution_count": 19,
   "metadata": {},
   "outputs": [],
   "source": [
    "def calculate_distance(coords1,coords2):\n",
    "    x_distance = coords1[0] - coords2[0]\n",
    "    y_distance = coords1[1] - coords2[1]\n",
    "    z_distance = coords1[2] - coords2[2]\n",
    "    distance = numpy.sqrt(x_distance**2 + y_distance**2 + z_distance**2)\n",
    "    return distance"
   ]
  },
  {
   "cell_type": "code",
   "execution_count": 20,
   "metadata": {},
   "outputs": [
    {
     "data": {
      "text/plain": [
       "1.0"
      ]
     },
     "execution_count": 20,
     "metadata": {},
     "output_type": "execute_result"
    }
   ],
   "source": [
    "calculate_distance([0,0,0],[0,0,1])"
   ]
  },
  {
   "cell_type": "code",
   "execution_count": 21,
   "metadata": {},
   "outputs": [
    {
     "data": {
      "text/plain": [
       "1.7320508075688772"
      ]
     },
     "execution_count": 21,
     "metadata": {},
     "output_type": "execute_result"
    }
   ],
   "source": [
    "calculate_distance([0,0,0],[1,1,1])"
   ]
  },
  {
   "cell_type": "code",
   "execution_count": 23,
   "metadata": {},
   "outputs": [
    {
     "name": "stdout",
     "output_type": "stream",
     "text": [
      "O to H1 : 0.969\n",
      "O to H2 : 0.969\n"
     ]
    }
   ],
   "source": [
    "for num1 in range(0, num_atoms):\n",
    "    for num2 in range(0, num_atoms):\n",
    "        if num1<num2:\n",
    "            distance = calculate_distance(coords[num1],coords[num2])\n",
    "            \n",
    "            if distance > 0 and distance < 1.5:\n",
    "                print(F'{symbols[num1]} to {symbols[num2]} : {distance:.3f}')"
   ]
  },
  {
   "cell_type": "code",
   "execution_count": 24,
   "metadata": {},
   "outputs": [],
   "source": [
    "# Write a function to check and see if a distance is a bond\n",
    "def bond_check(atom_distance):\n",
    "    if atom_distance > 0 and atom_distance < 1.5:\n",
    "        return True\n",
    "    else:\n",
    "        return False"
   ]
  },
  {
   "cell_type": "code",
   "execution_count": 25,
   "metadata": {},
   "outputs": [
    {
     "data": {
      "text/plain": [
       "False"
      ]
     },
     "execution_count": 25,
     "metadata": {},
     "output_type": "execute_result"
    }
   ],
   "source": [
    "bond_check(1.7)"
   ]
  },
  {
   "cell_type": "code",
   "execution_count": 26,
   "metadata": {},
   "outputs": [
    {
     "data": {
      "text/plain": [
       "True"
      ]
     },
     "execution_count": 26,
     "metadata": {},
     "output_type": "execute_result"
    }
   ],
   "source": [
    "bond_check(1.2)"
   ]
  },
  {
   "cell_type": "code",
   "execution_count": 27,
   "metadata": {},
   "outputs": [
    {
     "data": {
      "text/plain": [
       "False"
      ]
     },
     "execution_count": 27,
     "metadata": {},
     "output_type": "execute_result"
    }
   ],
   "source": [
    "bond_check(-50)"
   ]
  },
  {
   "cell_type": "code",
   "execution_count": 56,
   "metadata": {},
   "outputs": [],
   "source": [
    "# Modify the bond check function to take a minimum and a maximum length as an input\n",
    "def bond_check(atom_distance, min_length=0, max_length=1.5):\n",
    "    \"\"\"\n",
    "    Checks if a distance is a bond based on a minimum and maximum\n",
    "    Inputs: distance, minimum length for bond, maximum length for bond\n",
    "    Defaults: minimum: 0 angstroms, maximum: 1.5 angstroms\n",
    "    \"\"\"\n",
    "    if atom_distance > min_length and atom_distance < max_length:\n",
    "        return True\n",
    "    else:\n",
    "        return False"
   ]
  },
  {
   "cell_type": "code",
   "execution_count": 57,
   "metadata": {},
   "outputs": [
    {
     "data": {
      "text/plain": [
       "True"
      ]
     },
     "execution_count": 57,
     "metadata": {},
     "output_type": "execute_result"
    }
   ],
   "source": [
    "bond_check(1.7, 0, 2)"
   ]
  },
  {
   "cell_type": "code",
   "execution_count": 38,
   "metadata": {},
   "outputs": [
    {
     "data": {
      "text/plain": [
       "False"
      ]
     },
     "execution_count": 38,
     "metadata": {},
     "output_type": "execute_result"
    }
   ],
   "source": [
    "bond_check(1.7)"
   ]
  },
  {
   "cell_type": "code",
   "execution_count": 39,
   "metadata": {},
   "outputs": [
    {
     "data": {
      "text/plain": [
       "True"
      ]
     },
     "execution_count": 39,
     "metadata": {},
     "output_type": "execute_result"
    }
   ],
   "source": [
    "bond_check(1.7, max_length=2)"
   ]
  },
  {
   "cell_type": "code",
   "execution_count": 40,
   "metadata": {},
   "outputs": [
    {
     "name": "stdout",
     "output_type": "stream",
     "text": [
      "Help on function bond_check in module __main__:\n",
      "\n",
      "bond_check(atom_distance, min_length=0, max_length=1.5)\n",
      "    Checks if a distance is a bond based on a minimum and maximum\n",
      "    Inputs: distance, minimum length for bond, maximum length for bond\n",
      "    Defaults: minimum: 0 angstroms, maximum: 1.5 angstroms\n",
      "\n"
     ]
    }
   ],
   "source": [
    "help(bond_check)"
   ]
  },
  {
   "cell_type": "code",
   "execution_count": 41,
   "metadata": {},
   "outputs": [
    {
     "name": "stdout",
     "output_type": "stream",
     "text": [
      "O to H1 : 0.969\n",
      "O to H2 : 0.969\n"
     ]
    }
   ],
   "source": [
    "for num1 in range(0, num_atoms):\n",
    "    for num2 in range(0, num_atoms):\n",
    "        if num1<num2:\n",
    "            distance = calculate_distance(coords[num1],coords[num2])\n",
    "            \n",
    "            if bond_check(distance) is True:\n",
    "                print(F'{symbols[num1]} to {symbols[num2]} : {distance:.3f}')"
   ]
  },
  {
   "cell_type": "code",
   "execution_count": 43,
   "metadata": {},
   "outputs": [],
   "source": [
    "# Write a new function called open_xyz that opens and processes an xyz file. Your function\n",
    "# should accept a file path for the input.\n",
    "def open_xyz(filename):\n",
    "    \"\"\"\n",
    "    This function opens a standard xyz file.\n",
    "    It returns the symbols as strings and the coordinates as floats.\n",
    "    \"\"\"\n",
    "    xyz_file = numpy.genfromtxt(fname=filename, dtype='unicode', skip_header=2)\n",
    "    symbols = xyz_file[:,0]\n",
    "    coords = xyz_file[:,1:]\n",
    "    coords = coords.astype(numpy.float)\n",
    "    return symbols, coords"
   ]
  },
  {
   "cell_type": "code",
   "execution_count": 60,
   "metadata": {},
   "outputs": [
    {
     "name": "stdout",
     "output_type": "stream",
     "text": [
      "O to H1 : 0.969\n",
      "O to H2 : 0.969\n"
     ]
    }
   ],
   "source": [
    "import os\n",
    "import numpy\n",
    "\n",
    "def calculate_distance(coords1,coords2):\n",
    "    x_distance = coords1[0] - coords2[0]\n",
    "    y_distance = coords1[1] - coords2[1]\n",
    "    z_distance = coords1[2] - coords2[2]\n",
    "    distance = numpy.sqrt(x_distance**2 + y_distance**2 + z_distance**2)\n",
    "    return distance\n",
    "\n",
    "def bond_check(atom_distance, min_length=0, max_length=1.5):\n",
    "    \"\"\"\n",
    "    Checks if a distance is a bond based on a minimum and maximum\n",
    "    Inputs: distance, minimum length for bond, maximum length for bond\n",
    "    Defaults: minimum: 0 angstroms, maximum: 1.5 angstroms\n",
    "    \"\"\"\n",
    "    if atom_distance > min_length and atom_distance < max_length:\n",
    "        return True\n",
    "    else:\n",
    "        return False\n",
    "\n",
    "def open_xyz(filename):\n",
    "    \"\"\"\n",
    "    This function opens a standard xyz file.\n",
    "    It returns the symbols as strings and the coordinates as floats.\n",
    "    \"\"\"\n",
    "    xyz_file = numpy.genfromtxt(fname=filename, dtype='unicode', skip_header=2)\n",
    "    symbols = xyz_file[:,0]\n",
    "    coords = xyz_file[:,1:]\n",
    "    coords = coords.astype(float)\n",
    "    return symbols, coords\n",
    "\n",
    "file_location = os.path.join('data','water.xyz')\n",
    "symbols, coordinates = open_xyz(file_location)\n",
    "\n",
    "#print(calculate_distance(coordinates[0],coordinates[1]))\n",
    "num_atoms = len(symbols)\n",
    "for num1 in range(0,num_atoms):\n",
    "    for num2 in range(0,num_atoms):\n",
    "        if num1<num2:\n",
    "            distance=calculate_distance(coordinates[num1],coordinates[num2])\n",
    "            if bond_check(distance) is True:\n",
    "                print(F'{symbols[num1]} to {symbols[num2]} : {distance:.3f}')"
   ]
  },
  {
   "cell_type": "code",
   "execution_count": null,
   "metadata": {},
   "outputs": [],
   "source": []
  }
 ],
 "metadata": {
  "kernelspec": {
   "display_name": "Python 3",
   "language": "python",
   "name": "python3"
  },
  "language_info": {
   "codemirror_mode": {
    "name": "ipython",
    "version": 3
   },
   "file_extension": ".py",
   "mimetype": "text/x-python",
   "name": "python",
   "nbconvert_exporter": "python",
   "pygments_lexer": "ipython3",
   "version": "3.8.8"
  }
 },
 "nbformat": 4,
 "nbformat_minor": 2
}
